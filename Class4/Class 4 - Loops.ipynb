{
 "cells": [
  {
   "cell_type": "markdown",
   "metadata": {},
   "source": [
    "# Class 4 - Loops (`while` and `for`)"
   ]
  },
  {
   "cell_type": "markdown",
   "metadata": {},
   "source": [
    "Loops are repeated series of code until. There are 2 kinds of loops - `while` and `for`.\n",
    "When should we use which?:\n",
    "- a pre-set number of repetitions is completed - `for`\n",
    "- a condition is met - `while`"
   ]
  },
  {
   "cell_type": "code",
   "execution_count": 37,
   "metadata": {},
   "outputs": [
    {
     "name": "stdin",
     "output_type": "stream",
     "text": [
      " 10\n"
     ]
    },
    {
     "name": "stdout",
     "output_type": "stream",
     "text": [
      "2 3 4 5 6 7 8 9 10 11 "
     ]
    }
   ],
   "source": [
    "# WHILE\n",
    "# Count to N\n",
    "from time import sleep\n",
    "\n",
    "n = int(input())\n",
    "i = 1\n",
    "while i <= n:\n",
    "    i = i + 1\n",
    "    print(i, end = \" \")\n",
    "    sleep(.3)"
   ]
  },
  {
   "cell_type": "code",
   "execution_count": 36,
   "metadata": {},
   "outputs": [
    {
     "name": "stdin",
     "output_type": "stream",
     "text": [
      " 6\n"
     ]
    },
    {
     "name": "stdout",
     "output_type": "stream",
     "text": [
      "1 2 3 4 5 6 "
     ]
    }
   ],
   "source": [
    "# FOR\n",
    "# Count to N\n",
    "n = int(input())\n",
    "for i in range(1, n+1):\n",
    "    print(i, end = \" \")\n",
    "    sleep(.3)"
   ]
  },
  {
   "cell_type": "markdown",
   "metadata": {},
   "source": [
    "## `while`"
   ]
  },
  {
   "cell_type": "code",
   "execution_count": 40,
   "metadata": {},
   "outputs": [
    {
     "data": {
      "text/plain": [
       "False"
      ]
     },
     "execution_count": 40,
     "metadata": {},
     "output_type": "execute_result"
    }
   ],
   "source": [
    "n = 11\n",
    "n < 10"
   ]
  },
  {
   "cell_type": "code",
   "execution_count": 5,
   "metadata": {},
   "outputs": [
    {
     "name": "stdin",
     "output_type": "stream",
     "text": [
      " 1\n"
     ]
    },
    {
     "name": "stdout",
     "output_type": "stream",
     "text": [
      "1\n",
      "2\n",
      "3\n",
      "4\n",
      "5\n",
      "6\n",
      "7\n",
      "8\n",
      "9\n",
      "Goodbye\n"
     ]
    }
   ],
   "source": [
    "# Count to N\n",
    "n = int(input())\n",
    "while n < 10:\n",
    "    print(n)\n",
    "    n = n + 1\n",
    "\n",
    "print('Goodbye')"
   ]
  },
  {
   "cell_type": "markdown",
   "metadata": {},
   "source": [
    "Small note on alternative Python syntax for item incrementing:"
   ]
  },
  {
   "cell_type": "code",
   "execution_count": 6,
   "metadata": {},
   "outputs": [
    {
     "name": "stdout",
     "output_type": "stream",
     "text": [
      "1\n"
     ]
    }
   ],
   "source": [
    "i = 0\n",
    "i += 1  # i = i + 1\n",
    "print(i)"
   ]
  },
  {
   "cell_type": "markdown",
   "metadata": {},
   "source": [
    "### Exercises\n",
    "Write a loop that counts down from any input number (N) to 1."
   ]
  },
  {
   "cell_type": "code",
   "execution_count": 9,
   "metadata": {},
   "outputs": [
    {
     "name": "stdin",
     "output_type": "stream",
     "text": [
      "Enter the number to start from: 10\n"
     ]
    },
    {
     "name": "stdout",
     "output_type": "stream",
     "text": [
      "10\n",
      "9\n",
      "8\n",
      "7\n",
      "6\n",
      "5\n",
      "4\n",
      "3\n",
      "2\n",
      "1\n"
     ]
    }
   ],
   "source": [
    "N = int(input('Enter the number to start from:'))\n",
    "while N >= 1:\n",
    "    print(N)\n",
    "    N = N - 1"
   ]
  },
  {
   "cell_type": "markdown",
   "metadata": {},
   "source": [
    "Write a loop that terminates once a correct 4-digit number has been enterred."
   ]
  },
  {
   "cell_type": "code",
   "execution_count": 15,
   "metadata": {},
   "outputs": [
    {
     "name": "stdin",
     "output_type": "stream",
     "text": [
      " 1234\n"
     ]
    },
    {
     "name": "stdout",
     "output_type": "stream",
     "text": [
      "Invalid password\n"
     ]
    },
    {
     "name": "stdin",
     "output_type": "stream",
     "text": [
      " 8642\n"
     ]
    },
    {
     "name": "stdout",
     "output_type": "stream",
     "text": [
      "Correct\n"
     ]
    }
   ],
   "source": [
    "password = '8642'\n",
    "attempt = input()\n",
    "\n",
    "while password != attempt: \n",
    "    print('Invalid password')\n",
    "    attempt = input()\n",
    "\n",
    "print('Correct')"
   ]
  },
  {
   "cell_type": "code",
   "execution_count": 14,
   "metadata": {},
   "outputs": [
    {
     "data": {
      "text/plain": [
       "True"
      ]
     },
     "execution_count": 14,
     "metadata": {},
     "output_type": "execute_result"
    }
   ],
   "source": [
    "#password != attempt\n",
    "8642 != '8642'"
   ]
  },
  {
   "cell_type": "markdown",
   "metadata": {},
   "source": [
    "Create a program that computes the average of a collection of values entered by the user. The user will enter 999 as a sentinel value to indicate\n",
    "that no further values will be provided."
   ]
  },
  {
   "cell_type": "code",
   "execution_count": null,
   "metadata": {},
   "outputs": [],
   "source": []
  },
  {
   "cell_type": "markdown",
   "metadata": {},
   "source": [
    "## `for`\n",
    "`for` loops are used when a pre-set number of repetitions is needed"
   ]
  },
  {
   "cell_type": "markdown",
   "metadata": {},
   "source": [
    "### Using `range()` with `for`\n",
    "`range()` is a very commonly used function together with `for` loops. So what is it?"
   ]
  },
  {
   "cell_type": "code",
   "execution_count": 17,
   "metadata": {},
   "outputs": [
    {
     "data": {
      "text/plain": [
       "range(0, 10)"
      ]
     },
     "execution_count": 17,
     "metadata": {},
     "output_type": "execute_result"
    }
   ],
   "source": [
    "range(10)"
   ]
  },
  {
   "cell_type": "code",
   "execution_count": 16,
   "metadata": {},
   "outputs": [
    {
     "data": {
      "text/plain": [
       "[0, 1, 2, 3, 4, 5, 6, 7, 8, 9]"
      ]
     },
     "execution_count": 16,
     "metadata": {},
     "output_type": "execute_result"
    }
   ],
   "source": [
    "list(range(10))"
   ]
  },
  {
   "cell_type": "code",
   "execution_count": 27,
   "metadata": {},
   "outputs": [
    {
     "name": "stdout",
     "output_type": "stream",
     "text": [
      "[0, 1, 2, 3, 4, 5, 6, 7, 8, 9]\n",
      "[5, 6, 7, 8, 9]\n",
      "[1, 4, 7]\n",
      "[-10, -8, -6, -4, -2]\n"
     ]
    }
   ],
   "source": [
    "print(list(range(10)))\n",
    "print(list(range(5, 10)))\n",
    "print(list(range(1, 10, 3)))\n",
    "print(list(range(10,0,-2)))"
   ]
  },
  {
   "cell_type": "code",
   "execution_count": 30,
   "metadata": {},
   "outputs": [
    {
     "data": {
      "text/plain": [
       "True"
      ]
     },
     "execution_count": 30,
     "metadata": {},
     "output_type": "execute_result"
    }
   ],
   "source": [
    "8 in range(0,10,2)"
   ]
  },
  {
   "cell_type": "code",
   "execution_count": 36,
   "metadata": {},
   "outputs": [
    {
     "name": "stdout",
     "output_type": "stream",
     "text": [
      "0\n",
      "1\n",
      "2\n",
      "3\n",
      "4\n",
      "5\n",
      "6\n",
      "7\n",
      "8\n",
      "9\n",
      "Goodbye\n"
     ]
    }
   ],
   "source": [
    "n = 10\n",
    "for each_item in range(n):\n",
    "    print(each_n)\n",
    "\n",
    "print(\"Goodbye\")\n",
    "\n",
    "# Iterators, generators"
   ]
  },
  {
   "cell_type": "code",
   "execution_count": 34,
   "metadata": {},
   "outputs": [
    {
     "data": {
      "text/plain": [
       "[0, 1, 2, 3, 4]"
      ]
     },
     "execution_count": 34,
     "metadata": {},
     "output_type": "execute_result"
    }
   ],
   "source": [
    "list(range(5))"
   ]
  },
  {
   "cell_type": "code",
   "execution_count": 37,
   "metadata": {},
   "outputs": [
    {
     "name": "stdout",
     "output_type": "stream",
     "text": [
      "hi, 0\n",
      "hi, 1\n",
      "hi, 2\n",
      "hi, 3\n",
      "hi, 4\n",
      "hi, 5\n",
      "hi, 6\n",
      "hi, 7\n",
      "hi, 8\n",
      "hi, 9\n"
     ]
    }
   ],
   "source": [
    "n = 10\n",
    "for x in range(n):\n",
    "    print('hi, ' + str(x))"
   ]
  },
  {
   "cell_type": "code",
   "execution_count": 38,
   "metadata": {},
   "outputs": [
    {
     "name": "stdout",
     "output_type": "stream",
     "text": [
      "hi, 10\n",
      "hi, 15\n",
      "hi, 20\n",
      "hi, 25\n",
      "hi, 30\n",
      "hi, 35\n",
      "hi, 40\n",
      "hi, 45\n"
     ]
    }
   ],
   "source": [
    "n = 50\n",
    "for each_n in range(10,n,5):\n",
    "    print('hi, ' + str(each_n))"
   ]
  },
  {
   "cell_type": "code",
   "execution_count": 57,
   "metadata": {},
   "outputs": [
    {
     "name": "stdout",
     "output_type": "stream",
     "text": [
      "0 hi\n",
      "1 hi\n",
      "2 hi\n",
      "3 hi\n",
      "4 hi\n",
      "5 hi\n",
      "6 hi\n",
      "7 hi\n",
      "8 hi\n",
      "9 hi\n",
      "10 hi\n",
      "11 hi\n",
      "12 hi\n",
      "13 hi\n",
      "14 hi\n",
      "15 hi\n",
      "16 hi\n",
      "17 hi\n",
      "18 hi\n",
      "19 hi\n"
     ]
    }
   ],
   "source": [
    "n = 20\n",
    "for x in range(n):\n",
    "    print(x, 'hi')\n",
    "    #sleep(.3)"
   ]
  },
  {
   "cell_type": "markdown",
   "metadata": {},
   "source": [
    "### _Quick overview of `string` and `list`_"
   ]
  },
  {
   "cell_type": "code",
   "execution_count": 40,
   "metadata": {},
   "outputs": [
    {
     "data": {
      "text/plain": [
       "'iftach'"
      ]
     },
     "execution_count": 40,
     "metadata": {},
     "output_type": "execute_result"
    }
   ],
   "source": [
    "myname = 'iftach'\n",
    "myname"
   ]
  },
  {
   "cell_type": "code",
   "execution_count": 41,
   "metadata": {},
   "outputs": [
    {
     "data": {
      "text/plain": [
       "6"
      ]
     },
     "execution_count": 41,
     "metadata": {},
     "output_type": "execute_result"
    }
   ],
   "source": [
    "len(myname) #length"
   ]
  },
  {
   "cell_type": "code",
   "execution_count": 42,
   "metadata": {},
   "outputs": [
    {
     "name": "stdout",
     "output_type": "stream",
     "text": [
      "i\n",
      "f\n",
      "h\n"
     ]
    }
   ],
   "source": [
    "# indexing\n",
    "print(myname[0])\n",
    "print(myname[1])\n",
    "print(myname[len(myname)-1])"
   ]
  },
  {
   "cell_type": "markdown",
   "metadata": {},
   "source": [
    "### Iterating over a string"
   ]
  },
  {
   "cell_type": "code",
   "execution_count": 51,
   "metadata": {},
   "outputs": [
    {
     "name": "stdin",
     "output_type": "stream",
     "text": [
      "Enter your name: iftach\n"
     ]
    },
    {
     "name": "stdout",
     "output_type": "stream",
     "text": [
      "i\n",
      "f\n",
      "t\n",
      "a\n",
      "c\n",
      "h\n"
     ]
    }
   ],
   "source": [
    "# Iterating over a string\n",
    "name = input('Enter your name:')\n",
    "\n",
    "for a in name:\n",
    "    print(a)\n"
   ]
  },
  {
   "cell_type": "markdown",
   "metadata": {},
   "source": [
    "### Iterating over a list"
   ]
  },
  {
   "cell_type": "code",
   "execution_count": 45,
   "metadata": {},
   "outputs": [
    {
     "data": {
      "text/plain": [
       "6"
      ]
     },
     "execution_count": 45,
     "metadata": {},
     "output_type": "execute_result"
    }
   ],
   "source": [
    "mylist = [1, 2.0, 'three', 'a', 'b', 'cee']\n",
    "len(mylist)"
   ]
  },
  {
   "cell_type": "code",
   "execution_count": 49,
   "metadata": {},
   "outputs": [
    {
     "name": "stdout",
     "output_type": "stream",
     "text": [
      "1\n",
      "2.0\n",
      "three\n",
      "a\n",
      "b\n",
      "cee\n"
     ]
    }
   ],
   "source": [
    "from time import sleep\n",
    "# Iterating over a list\n",
    "mylist = [1, 2.0, 'three', 'a', 'b', 'cee']\n",
    "\n",
    "for x in mylist:\n",
    "    print(x)\n",
    "    sleep(.3)"
   ]
  },
  {
   "cell_type": "markdown",
   "metadata": {},
   "source": [
    "### Using `enumerate()` with `for`"
   ]
  },
  {
   "cell_type": "markdown",
   "metadata": {},
   "source": [
    "First, let's look at some examples of what `enumerate` does."
   ]
  },
  {
   "cell_type": "code",
   "execution_count": null,
   "metadata": {},
   "outputs": [],
   "source": [
    "e = enumerate(['a',1,'c'])"
   ]
  },
  {
   "cell_type": "code",
   "execution_count": null,
   "metadata": {},
   "outputs": [],
   "source": [
    "print(e)\n",
    "list(e)"
   ]
  },
  {
   "cell_type": "code",
   "execution_count": null,
   "metadata": {},
   "outputs": [],
   "source": [
    "next(e)"
   ]
  },
  {
   "cell_type": "code",
   "execution_count": null,
   "metadata": {},
   "outputs": [],
   "source": [
    "e = enumerate(range(0,1000000000000,5))\n",
    "type(e)"
   ]
  },
  {
   "cell_type": "code",
   "execution_count": null,
   "metadata": {},
   "outputs": [],
   "source": [
    "next(e)"
   ]
  },
  {
   "cell_type": "markdown",
   "metadata": {},
   "source": [
    "Now, let's use it in a `for` loop"
   ]
  },
  {
   "cell_type": "code",
   "execution_count": null,
   "metadata": {},
   "outputs": [],
   "source": [
    "my_list = ['a', 5, 'c', 10, 'ff', '55']\n",
    "for i, each_item in enumerate(my_list):\n",
    "    print('Current number index is: ', i, '.     And current item is: ', each_item)"
   ]
  },
  {
   "cell_type": "markdown",
   "metadata": {},
   "source": [
    "#### Why the emphasis on `range`\n",
    "The *python* way vs. the \"generic\" way"
   ]
  },
  {
   "cell_type": "code",
   "execution_count": null,
   "metadata": {},
   "outputs": [],
   "source": [
    "days_of_week = ['sunday', 'monday', 'tuesday', 'wednesday', 'thursday']"
   ]
  },
  {
   "cell_type": "code",
   "execution_count": null,
   "metadata": {},
   "outputs": [],
   "source": [
    "# Generic way\n",
    "for i in range(len(days_of_week)):\n",
    "    print(days_of_week[i])"
   ]
  },
  {
   "cell_type": "code",
   "execution_count": null,
   "metadata": {},
   "outputs": [],
   "source": [
    "# Python way / R\n",
    "for each_day in days_of_week:\n",
    "    print(each_day)"
   ]
  },
  {
   "cell_type": "markdown",
   "metadata": {},
   "source": [
    "## Example of using loops"
   ]
  },
  {
   "cell_type": "code",
   "execution_count": null,
   "metadata": {},
   "outputs": [],
   "source": [
    "n_days = 30\n",
    "r0 = 1.5\n",
    "number_of_infected = 1\n",
    "for each_day in range(0, n_days):\n",
    "    \n",
    "    # update how many are infected?\n",
    "    number_of_infected = number_of_infected * r0\n",
    "    \n",
    "    print('Day ' + str(i) + ', number of infected = ' + str(round(number_of_infected,1)))"
   ]
  },
  {
   "cell_type": "code",
   "execution_count": null,
   "metadata": {},
   "outputs": [],
   "source": [
    "import matplotlib.pyplot as plt\n",
    "\n",
    "n_days = 30\n",
    "r0 = 1.5\n",
    "number_of_infected = [1]\n",
    "\n",
    "for each_day in range(1, n_days):\n",
    "    # update how many are infected?\n",
    "    number_of_infected.append(number_of_infected[each_day-1] * r0)\n",
    "    \n",
    "plt.plot(list(range(0,n_days)), number_of_infected)\n",
    "plt.xlabel('Days since first infection')\n",
    "plt.ylabel('Number of people infected')\n",
    "plt.show()"
   ]
  },
  {
   "cell_type": "code",
   "execution_count": null,
   "metadata": {},
   "outputs": [],
   "source": [
    "# INITIATE LOCK-DOWN\n",
    "rate_of_infection = .90\n",
    "day_counter = n_days\n",
    "\n",
    "# Count how many days until number of infected goes below 20,000\n",
    "while number_of_infected[day_counter-1] > 20_000:\n",
    "    \n",
    "    # update how many are infected?\n",
    "    number_of_infected.append(number_of_infected[day_counter-1] * rate_of_infection)\n",
    "    \n",
    "    # update days counter\n",
    "    day_counter = day_counter + 1\n",
    "\n",
    "# How many days until we end lockdown?\n",
    "print(str(day_counter) + ' days until lockdown ends')\n",
    "\n",
    "plt.plot(list(range(0,day_counter)), number_of_infected)\n",
    "plt.xlabel('Days since first infection')\n",
    "plt.ylabel('Number of people infected')\n",
    "plt.show()"
   ]
  },
  {
   "cell_type": "markdown",
   "metadata": {},
   "source": [
    "## `break` and `continue` in loops"
   ]
  },
  {
   "cell_type": "code",
   "execution_count": null,
   "metadata": {},
   "outputs": [],
   "source": [
    "mylist = ['a', 'b', 'cc', 'd', 'ee', 'f']\n",
    "for each_item in mylist:\n",
    "    if len(each_item) > 1:\n",
    "        continue\n",
    "    \n",
    "    print(each_item)\n",
    "\n",
    "print('The last item copied from the list (each_time) = ' + each_item)"
   ]
  },
  {
   "cell_type": "code",
   "execution_count": null,
   "metadata": {},
   "outputs": [],
   "source": [
    "mylist = ['a', 'b', 'cc', 'd', 'ee', 'f']\n",
    "for each_item in mylist:\n",
    "    if len(each_item) > 1:\n",
    "        break\n",
    "    \n",
    "    print(each_item)\n",
    "\n",
    "print('The last item copied from the list (each_time) = ' + each_item)"
   ]
  },
  {
   "cell_type": "code",
   "execution_count": null,
   "metadata": {},
   "outputs": [],
   "source": [
    "for index in range(5, 56):\n",
    "    if index % 2 == 0:\n",
    "        continue\n",
    "    print(index)"
   ]
  },
  {
   "cell_type": "code",
   "execution_count": null,
   "metadata": {},
   "outputs": [],
   "source": [
    "# Write a loop that asks user to enter a password until password is correct\n",
    "password = 'abc123'\n",
    "while True:\n",
    "    enterred_pass = input('Write you password:')\n",
    "    if enterred_pass==password:\n",
    "        break\n",
    "    else:\n",
    "        print('Incorrect')\n",
    "print('Correct password')"
   ]
  },
  {
   "cell_type": "markdown",
   "metadata": {},
   "source": [
    "## `for` exercises"
   ]
  },
  {
   "cell_type": "markdown",
   "metadata": {},
   "source": [
    "Write a program that displays a temperature conversion table for degrees Celsius and\n",
    "degrees Fahrenheit. The table should include rows for all temperatures between 0\n",
    "and 100 degrees Celsius that are multiples of 10 degrees Celsius. Include appropriate\n",
    "headings on your columns."
   ]
  },
  {
   "cell_type": "code",
   "execution_count": null,
   "metadata": {},
   "outputs": [],
   "source": []
  }
 ],
 "metadata": {
  "kernelspec": {
   "display_name": "Python 3",
   "language": "python",
   "name": "python3"
  },
  "language_info": {
   "codemirror_mode": {
    "name": "ipython",
    "version": 3
   },
   "file_extension": ".py",
   "mimetype": "text/x-python",
   "name": "python",
   "nbconvert_exporter": "python",
   "pygments_lexer": "ipython3",
   "version": "3.7.7"
  }
 },
 "nbformat": 4,
 "nbformat_minor": 4
}
