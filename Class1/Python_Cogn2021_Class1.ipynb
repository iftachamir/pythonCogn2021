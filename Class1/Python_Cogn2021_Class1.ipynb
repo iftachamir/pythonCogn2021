{
 "cells": [
  {
   "cell_type": "markdown",
   "metadata": {},
   "source": [
    "# Introduction to Programming in Python - Cognition 2021\n",
    "# **Class 1**"
   ]
  },
  {
   "cell_type": "markdown",
   "metadata": {},
   "source": [
    "Welcome to the course.\n",
    "\n",
    "This is a *Jupyter Notebook*. It is an IDE (Integrated Development Environment) used to share, describe and run code in the same interface. It is made up of \"cells\" that are either rich text (like this cell), or cells that can run code (like the one below)."
   ]
  },
  {
   "cell_type": "markdown",
   "metadata": {},
   "source": [
    "## 1. Some examples"
   ]
  },
  {
   "cell_type": "code",
   "execution_count": null,
   "metadata": {},
   "outputs": [],
   "source": [
    "# PRESS SHIFT+ENTER or CTRL+ENTER\n",
    "import time\n",
    "for letter in \"Welcome to Programming in Python\":\n",
    "    print(letter, end=\"\")\n",
    "    time.sleep(.2)"
   ]
  },
  {
   "cell_type": "markdown",
   "metadata": {},
   "source": [
    "Jupyter Notebooks are especially useful for data analysis and scientific programming. You can have visualizations output from your code appearing inside the notebook."
   ]
  },
  {
   "cell_type": "code",
   "execution_count": null,
   "metadata": {},
   "outputs": [],
   "source": [
    "import matplotlib.pyplot as plt\n",
    "import numpy as np\n",
    "\n",
    "def simulate_covid_and_lockdown(init_num, baseR, days_num):\n",
    "\n",
    "    people = [init_num] \n",
    "    \n",
    "    for i, days in enumerate(range(1, days_num)):\n",
    "        \n",
    "        if people[i] > 20_000:\n",
    "            baseR = .9\n",
    "        \n",
    "        R = np.random.normal(baseR, .15, 1)\n",
    "        init_num = init_num * R\n",
    "        people = people + [int(init_num)]\n",
    "\n",
    "    days = list(range(days_num))\n",
    "    plt.plot(days, people, '-o')\n",
    "    plt.title('Number of infected by day, lockdown initiated after 20,000 infected')\n",
    "    plt.xlabel('# Days since ' + str(init_num) + ' persons infected')\n",
    "    plt.ylabel('# of people infected')\n",
    "    plt.show()  \n",
    "\n",
    "    #test run    \n",
    "simulate_covid_and_lockdown(10,1.3,42)   "
   ]
  },
  {
   "cell_type": "markdown",
   "metadata": {},
   "source": [
    "## 2. Let's get started"
   ]
  },
  {
   "cell_type": "markdown",
   "metadata": {},
   "source": [
    "### REPL\n",
    "**R**ead **E**valuate **P**rint **L**oop"
   ]
  },
  {
   "cell_type": "code",
   "execution_count": null,
   "metadata": {},
   "outputs": [],
   "source": [
    "print(\"Hello, world\")"
   ]
  },
  {
   "cell_type": "markdown",
   "metadata": {},
   "source": [
    "### Errors"
   ]
  },
  {
   "cell_type": "code",
   "execution_count": null,
   "metadata": {},
   "outputs": [],
   "source": [
    "print(Hello, world)"
   ]
  },
  {
   "cell_type": "code",
   "execution_count": null,
   "metadata": {},
   "outputs": [],
   "source": [
    "print(\"Hello, world)"
   ]
  },
  {
   "cell_type": "markdown",
   "metadata": {},
   "source": [
    "### Operators\n",
    "https://en.wikibooks.org/wiki/Python_Programming/Basic_Math"
   ]
  },
  {
   "cell_type": "code",
   "execution_count": null,
   "metadata": {},
   "outputs": [],
   "source": [
    "3 + 5"
   ]
  },
  {
   "cell_type": "markdown",
   "metadata": {},
   "source": [
    "### Variables"
   ]
  },
  {
   "cell_type": "code",
   "execution_count": 13,
   "metadata": {},
   "outputs": [
    {
     "data": {
      "text/plain": [
       "'Iftach'"
      ]
     },
     "execution_count": 13,
     "metadata": {},
     "output_type": "execute_result"
    }
   ],
   "source": [
    "my_name = 'Iftach'\n",
    "\n",
    "my_name"
   ]
  },
  {
   "cell_type": "code",
   "execution_count": 18,
   "metadata": {},
   "outputs": [
    {
     "name": "stdout",
     "output_type": "stream",
     "text": [
      "<class 'str'>\n",
      "1535453600368\n"
     ]
    }
   ],
   "source": [
    "print(type(my_name))\n",
    "print(id(my_name))"
   ]
  },
  {
   "cell_type": "code",
   "execution_count": 19,
   "metadata": {},
   "outputs": [
    {
     "name": "stdout",
     "output_type": "stream",
     "text": [
      "Iftach\n"
     ]
    }
   ],
   "source": [
    "print(my_name)"
   ]
  },
  {
   "cell_type": "markdown",
   "metadata": {},
   "source": [
    "#### Print multiple variables"
   ]
  },
  {
   "cell_type": "code",
   "execution_count": 21,
   "metadata": {},
   "outputs": [
    {
     "name": "stdout",
     "output_type": "stream",
     "text": [
      "My name is Iftach Amir\n"
     ]
    }
   ],
   "source": [
    "first = \"Iftach\"\n",
    "last = \"Amir\"\n",
    "print(\"My name is\", first, last)"
   ]
  }
 ],
 "metadata": {
  "kernelspec": {
   "display_name": "Python 3",
   "language": "python",
   "name": "python3"
  },
  "language_info": {
   "codemirror_mode": {
    "name": "ipython",
    "version": 3
   },
   "file_extension": ".py",
   "mimetype": "text/x-python",
   "name": "python",
   "nbconvert_exporter": "python",
   "pygments_lexer": "ipython3",
   "version": "3.7.7"
  }
 },
 "nbformat": 4,
 "nbformat_minor": 4
}
